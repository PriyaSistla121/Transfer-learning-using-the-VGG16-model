{
 "cells": [
  {
   "cell_type": "code",
   "execution_count": 2,
   "metadata": {
    "colab": {
     "base_uri": "https://localhost:8080/",
     "height": 480
    },
    "id": "4CHHLZRs6rTo",
    "outputId": "ebecbc53-16f7-4d4b-fad8-421ca4ffb485"
   },
   "outputs": [
    {
     "name": "stdout",
     "output_type": "stream",
     "text": [
      "Found 1600 images belonging to 2 classes.\n",
      "Found 400 images belonging to 2 classes.\n"
     ]
    }
   ],
   "source": [
    "import tensorflow as tf\n",
    "from tensorflow.keras.preprocessing.image import ImageDataGenerator\n",
    "from tensorflow.keras.models import Sequential\n",
    "from tensorflow.keras.layers import Flatten, Dense\n",
    "from tensorflow.keras.applications import VGG16\n",
    "from tensorflow.keras.optimizers import SGD\n",
    "\n",
    "# Initialize ImageDataGenerator for training with augmentation\n",
    "train_datagen = ImageDataGenerator(\n",
    "    rescale=1./255,  # Rescale the images to be in range [0, 1]\n",
    "    shear_range=0.2,  # Shear transformation for augmentation\n",
    "    zoom_range=0.2,   # Zoom transformation for augmentation\n",
    "    horizontal_flip=True,  # Random horizontal flip for augmentation\n",
    "    rotation_range=40,  # Random rotation for augmentation\n",
    "    width_shift_range=0.2,  # Random width shift for augmentation\n",
    "    height_shift_range=0.2,  # Random height shift for augmentation\n",
    "    validation_split=0.2  # Split data into training (80%) and validation (20%)\n",
    ")\n",
    "\n",
    "# Load training images from directory and apply data augmentation\n",
    "training_set = train_datagen.flow_from_directory(\n",
    "    r'C:\\Users\\ADMIN\\OneDrive\\Desktop\\CatsVsDogs',  # Path to the dataset folder\n",
    "    target_size=(150, 150),     # Resize the images to 150x150\n",
    "    batch_size=32,              # Set the batch size\n",
    "    class_mode='categorical',   # Categorical classification (multiple classes)\n",
    "    subset='training'           # Subset for training data (80% of the total data)\n",
    ")\n",
    "\n",
    "# Load validation images from directory (no augmentation applied, just rescaling)\n",
    "validation_set = train_datagen.flow_from_directory(\n",
    "    r'C:\\Users\\ADMIN\\OneDrive\\Desktop\\CatsVsDogs',  # Path to the dataset folder\n",
    "    target_size=(150, 150),     # Resize the images to 150x150\n",
    "    batch_size=32,              # Set the batch size\n",
    "    class_mode='categorical',   # Categorical classification (multiple classes)\n",
    "    subset='validation'         # Subset for validation data (20% of the total data)\n",
    ")\n",
    "\n",
    "# Initialize VGG16 model for feature extraction (exclude the top layers)\n",
    "base_model = VGG16(\n",
    "    weights='imagenet',         # Pre-trained weights on ImageNet\n",
    "    include_top=False,          # Exclude the fully connected layers (top layers)\n",
    "    input_shape=(150, 150, 3)   # Set the input size (150x150 images)\n",
    ")\n",
    "\n",
    "# Freeze the layers of VGG16 to prevent training (feature extraction only)\n",
    "for layer in base_model.layers:\n",
    "    layer.trainable = False\n",
    "\n",
    "# Build the model with custom fully connected layers\n",
    "model = Sequential()\n",
    "\n",
    "# Add the pre-trained VGG16 model as the feature extractor\n",
    "model.add(base_model)\n",
    "\n",
    "# Add custom fully connected layers\n",
    "model.add(Flatten())                    # Flatten the output from the convolutional layers\n",
    "model.add(Dense(128, activation='relu')) # Add a fully connected layer with 128 neurons\n",
    "model.add(Dense(2, activation='softmax'))  # Output layer for multi-class classification (2 classes)\n",
    "\n",
    "# Compile the model with stochastic gradient descent (SGD) optimizer and categorical cross-entropy loss\n",
    "model.compile(\n",
    "    optimizer=SGD(learning_rate=0.01, momentum=0.9),  # Use SGD with learning rate and momentum\n",
    "    loss='categorical_crossentropy',  # Categorical cross-entropy for multi-class classification\n",
    "    metrics=['accuracy']  # Evaluate model based on accuracy\n",
    ")\n"
   ]
  },
  {
   "cell_type": "code",
   "execution_count": 5,
   "metadata": {},
   "outputs": [
    {
     "name": "stdout",
     "output_type": "stream",
     "text": [
      "Epoch 1/15\n",
      "\u001b[1m50/50\u001b[0m \u001b[32m━━━━━━━━━━━━━━━━━━━━\u001b[0m\u001b[37m\u001b[0m \u001b[1m205s\u001b[0m 4s/step - accuracy: 0.6172 - loss: 0.6606 - val_accuracy: 0.8025 - val_loss: 0.6087\n",
      "Epoch 2/15\n",
      "\u001b[1m50/50\u001b[0m \u001b[32m━━━━━━━━━━━━━━━━━━━━\u001b[0m\u001b[37m\u001b[0m \u001b[1m253s\u001b[0m 5s/step - accuracy: 0.7471 - loss: 0.5382 - val_accuracy: 0.7650 - val_loss: 0.4798\n",
      "Epoch 3/15\n",
      "\u001b[1m50/50\u001b[0m \u001b[32m━━━━━━━━━━━━━━━━━━━━\u001b[0m\u001b[37m\u001b[0m \u001b[1m235s\u001b[0m 5s/step - accuracy: 0.6664 - loss: 0.5878 - val_accuracy: 0.7750 - val_loss: 0.4795\n",
      "Epoch 4/15\n",
      "\u001b[1m50/50\u001b[0m \u001b[32m━━━━━━━━━━━━━━━━━━━━\u001b[0m\u001b[37m\u001b[0m \u001b[1m229s\u001b[0m 5s/step - accuracy: 0.7312 - loss: 0.5696 - val_accuracy: 0.8000 - val_loss: 0.4716\n",
      "Epoch 5/15\n",
      "\u001b[1m50/50\u001b[0m \u001b[32m━━━━━━━━━━━━━━━━━━━━\u001b[0m\u001b[37m\u001b[0m \u001b[1m238s\u001b[0m 5s/step - accuracy: 0.7333 - loss: 0.5710 - val_accuracy: 0.8275 - val_loss: 0.4193\n",
      "Epoch 6/15\n",
      "\u001b[1m50/50\u001b[0m \u001b[32m━━━━━━━━━━━━━━━━━━━━\u001b[0m\u001b[37m\u001b[0m \u001b[1m236s\u001b[0m 5s/step - accuracy: 0.7991 - loss: 0.4603 - val_accuracy: 0.7275 - val_loss: 0.5231\n",
      "Epoch 7/15\n",
      "\u001b[1m50/50\u001b[0m \u001b[32m━━━━━━━━━━━━━━━━━━━━\u001b[0m\u001b[37m\u001b[0m \u001b[1m175s\u001b[0m 4s/step - accuracy: 0.8308 - loss: 0.4153 - val_accuracy: 0.7375 - val_loss: 0.5041\n",
      "Epoch 8/15\n",
      "\u001b[1m50/50\u001b[0m \u001b[32m━━━━━━━━━━━━━━━━━━━━\u001b[0m\u001b[37m\u001b[0m \u001b[1m180s\u001b[0m 4s/step - accuracy: 0.7983 - loss: 0.4353 - val_accuracy: 0.8400 - val_loss: 0.3853\n",
      "Epoch 9/15\n",
      "\u001b[1m50/50\u001b[0m \u001b[32m━━━━━━━━━━━━━━━━━━━━\u001b[0m\u001b[37m\u001b[0m \u001b[1m175s\u001b[0m 4s/step - accuracy: 0.8412 - loss: 0.3683 - val_accuracy: 0.8275 - val_loss: 0.4115\n",
      "Epoch 10/15\n",
      "\u001b[1m50/50\u001b[0m \u001b[32m━━━━━━━━━━━━━━━━━━━━\u001b[0m\u001b[37m\u001b[0m \u001b[1m181s\u001b[0m 4s/step - accuracy: 0.8316 - loss: 0.3945 - val_accuracy: 0.8250 - val_loss: 0.3837\n",
      "Epoch 11/15\n",
      "\u001b[1m50/50\u001b[0m \u001b[32m━━━━━━━━━━━━━━━━━━━━\u001b[0m\u001b[37m\u001b[0m \u001b[1m190s\u001b[0m 4s/step - accuracy: 0.8273 - loss: 0.3876 - val_accuracy: 0.8550 - val_loss: 0.3520\n",
      "Epoch 12/15\n",
      "\u001b[1m50/50\u001b[0m \u001b[32m━━━━━━━━━━━━━━━━━━━━\u001b[0m\u001b[37m\u001b[0m \u001b[1m185s\u001b[0m 4s/step - accuracy: 0.8400 - loss: 0.3932 - val_accuracy: 0.7900 - val_loss: 0.4564\n",
      "Epoch 13/15\n",
      "\u001b[1m50/50\u001b[0m \u001b[32m━━━━━━━━━━━━━━━━━━━━\u001b[0m\u001b[37m\u001b[0m \u001b[1m176s\u001b[0m 4s/step - accuracy: 0.8149 - loss: 0.4129 - val_accuracy: 0.8350 - val_loss: 0.3496\n",
      "Epoch 14/15\n",
      "\u001b[1m50/50\u001b[0m \u001b[32m━━━━━━━━━━━━━━━━━━━━\u001b[0m\u001b[37m\u001b[0m \u001b[1m164s\u001b[0m 3s/step - accuracy: 0.8383 - loss: 0.3714 - val_accuracy: 0.8525 - val_loss: 0.3622\n",
      "Epoch 15/15\n",
      "\u001b[1m50/50\u001b[0m \u001b[32m━━━━━━━━━━━━━━━━━━━━\u001b[0m\u001b[37m\u001b[0m \u001b[1m149s\u001b[0m 3s/step - accuracy: 0.8634 - loss: 0.3265 - val_accuracy: 0.8125 - val_loss: 0.4102\n"
     ]
    },
    {
     "data": {
      "text/plain": [
       "<keras.src.callbacks.history.History at 0x266b87548d0>"
      ]
     },
     "execution_count": 5,
     "metadata": {},
     "output_type": "execute_result"
    }
   ],
   "source": [
    "\n",
    "# Train the model with training and validation sets\n",
    "model.fit(\n",
    "    training_set,\n",
    "    epochs=15,\n",
    "    validation_data=validation_set  # Use validation data during training\n",
    ")"
   ]
  },
  {
   "cell_type": "code",
   "execution_count": 31,
   "metadata": {
    "colab": {
     "base_uri": "https://localhost:8080/"
    },
    "id": "wqgODQU7OLlx",
    "outputId": "25cf2fc5-3e3c-4cba-b833-fbb23f9ec97b"
   },
   "outputs": [],
   "source": [
    "from tensorflow.keras.preprocessing import image\n",
    "\n",
    "image_path = r\"C:\\Users\\ADMIN\\OneDrive\\Desktop\\dog.jpg\"  # Replace with the actual path to your image\n",
    "img = image.load_img(image_path, target_size=(150, 150))  # Resize to match model input size\n",
    "\n"
   ]
  },
  {
   "cell_type": "code",
   "execution_count": 32,
   "metadata": {},
   "outputs": [
    {
     "data": {
      "text/plain": [
       "{'cats': 0, 'dogs': 1}"
      ]
     },
     "execution_count": 32,
     "metadata": {},
     "output_type": "execute_result"
    }
   ],
   "source": [
    "training_set.class_indices"
   ]
  },
  {
   "cell_type": "code",
   "execution_count": 33,
   "metadata": {},
   "outputs": [
    {
     "name": "stdout",
     "output_type": "stream",
     "text": [
      "\u001b[1m1/1\u001b[0m \u001b[32m━━━━━━━━━━━━━━━━━━━━\u001b[0m\u001b[37m\u001b[0m \u001b[1m0s\u001b[0m 173ms/step\n",
      "Predicted Label Index: 1\n",
      "Confidence: 91.32%\n",
      "dogs\n"
     ]
    }
   ],
   "source": [
    "import numpy as np\n",
    "\n",
    "# Convert the image to a NumPy array\n",
    "img_array = image.img_to_array(img)\n",
    "\n",
    "    # Add a batch dimension (convert from shape (150, 150, 3) to (1, 150, 150, 3))\n",
    "img_array = np.expand_dims(img_array, axis=0)\n",
    "\n",
    "    # Rescale the pixel values to [0, 1]\n",
    "img_array = img_array / 255.0\n",
    "prediction = model.predict(img_array)\n",
    "confidence = np.max(prediction)\n",
    "predicted_label_index = np.argmax(prediction)\n",
    "print(f\"Predicted Label Index: {predicted_label_index}\")\n",
    "print(f\"Confidence: {confidence * 100:.2f}%\")\n",
    "if predicted_label_index == 0:\n",
    "    print('cats')\n",
    "else:\n",
    "    print('dogs')\n",
    "\n"
   ]
  },
  {
   "cell_type": "code",
   "execution_count": null,
   "metadata": {},
   "outputs": [],
   "source": []
  }
 ],
 "metadata": {
  "colab": {
   "provenance": []
  },
  "kernelspec": {
   "display_name": "Python 3 (ipykernel)",
   "language": "python",
   "name": "python3"
  },
  "language_info": {
   "codemirror_mode": {
    "name": "ipython",
    "version": 3
   },
   "file_extension": ".py",
   "mimetype": "text/x-python",
   "name": "python",
   "nbconvert_exporter": "python",
   "pygments_lexer": "ipython3",
   "version": "3.11.7"
  }
 },
 "nbformat": 4,
 "nbformat_minor": 4
}
